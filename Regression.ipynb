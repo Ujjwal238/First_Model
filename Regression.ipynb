{
  "nbformat": 4,
  "nbformat_minor": 0,
  "metadata": {
    "colab": {
      "provenance": [],
      "authorship_tag": "ABX9TyNo683bjYhQmWrlcBBd5fiY"
    },
    "kernelspec": {
      "name": "python3",
      "display_name": "Python 3"
    },
    "language_info": {
      "name": "python"
    }
  },
  "cells": [
    {
      "cell_type": "code",
      "execution_count": 3,
      "metadata": {
        "id": "_8JwHAXDD7wv",
        "colab": {
          "base_uri": "https://localhost:8080/"
        },
        "outputId": "49b1779c-7397-459b-9d3e-e04fef697df7"
      },
      "outputs": [
        {
          "output_type": "stream",
          "name": "stdout",
          "text": [
            "hell\n"
          ]
        }
      ],
      "source": [
        "print(\"hell\")"
      ]
    },
    {
      "cell_type": "code",
      "source": [],
      "metadata": {
        "id": "29-JE0nwItuS"
      },
      "execution_count": null,
      "outputs": []
    }
  ]
}