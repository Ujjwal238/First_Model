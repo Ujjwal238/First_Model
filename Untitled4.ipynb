{
  "nbformat": 4,
  "nbformat_minor": 0,
  "metadata": {
    "colab": {
      "provenance": [],
      "authorship_tag": "ABX9TyNo683bjYhQmWrlcBBd5fiY"
    },
    "kernelspec": {
      "name": "python3",
      "display_name": "Python 3"
    },
    "language_info": {
      "name": "python"
    }
  },
  "cells": [
    {
      "cell_type": "code",
      "execution_count": 2,
      "metadata": {
        "id": "_8JwHAXDD7wv",
        "colab": {
          "base_uri": "https://localhost:8080/"
        },
        "outputId": "5584356e-ac44-4343-88c4-df22c561d6f8"
      },
      "outputs": [
        {
          "output_type": "stream",
          "name": "stdout",
          "text": [
            "hell\n"
          ]
        }
      ],
      "source": [
        "print(\"hell\")"
      ]
    },
    {
      "cell_type": "code",
      "source": [],
      "metadata": {
        "id": "29-JE0nwItuS"
      },
      "execution_count": null,
      "outputs": []
    }
  ]
}